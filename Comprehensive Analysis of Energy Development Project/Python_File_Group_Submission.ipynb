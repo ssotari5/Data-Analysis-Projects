{
 "cells": [
  {
   "cell_type": "code",
   "execution_count": null,
   "id": "4f58aba6",
   "metadata": {},
   "outputs": [],
   "source": [
    "# Import the necessary libraries: pandas for data manipulation and numpy for numerical operations.\n",
    "import pandas as pd\n",
    "import numpy as np\n",
    "\n",
    "# Read an Excel file into a Pandas DataFrame.\n",
    "df = pd.read_excel(r'C:\\Users\\admin\\Documents\\College\\Python\\assignment\\temp\\Dataset.xlsx')\n",
    "\n",
    "# Remove leading and trailing whitespaces from column names.\n",
    "df.rename(columns=lambda x: x.strip(), inplace=True)\n",
    "\n",
    "# Filter out all the rows if any null value is present in any of the cells. \n",
    "df = df[df[\"project_id\"].notna()]\n",
    "df = df[df[\"Project_name\"].notna()]\n",
    "df = df[df[\"Project_description\"].notna()]\n",
    "df = df[df[\"Project_type\"].notna()]\n",
    "df = df[df[\"MOE_approval_number\"].notna()]\n",
    "df = df[df[\"Project_approval_type\"].notna()]\n",
    "df = df[df[\"Proponent_name\"].notna()]\n",
    "df = df[df[\"Proponent_website\"].notna()]\n",
    "df = df[df[\"Location\"].notna()]\n",
    "df = df[df[\"MOE_region\"].notna()]\n",
    "df = df[df[\"Application_status\"].notna()]\n",
    "df = df[df[\"EBR_Number\"].notna()]\n",
    "\n",
    "# Replace empty strings with NaN (Not a Number) in the DataFrame.\n",
    "df.replace(r'^\\s*$', np.nan, regex=True, inplace=True)\n",
    "\n",
    "# Fill NaN values with the previous non-null value using forward fill (ffill).\n",
    "df.fillna(method='ffill', inplace=True)\n",
    "\n",
    "# Save the cleaned DataFrame back to an Excel file.\n",
    "df.to_excel(r'C:\\Users\\admin\\Documents\\College\\Python\\assignment\\temp\\Filtered_Dataset.xlsx')"
   ]
  }
 ],
 "metadata": {
  "kernelspec": {
   "display_name": "Python 3 (ipykernel)",
   "language": "python",
   "name": "python3"
  },
  "language_info": {
   "codemirror_mode": {
    "name": "ipython",
    "version": 3
   },
   "file_extension": ".py",
   "mimetype": "text/x-python",
   "name": "python",
   "nbconvert_exporter": "python",
   "pygments_lexer": "ipython3",
   "version": "3.11.5"
  }
 },
 "nbformat": 4,
 "nbformat_minor": 5
}
